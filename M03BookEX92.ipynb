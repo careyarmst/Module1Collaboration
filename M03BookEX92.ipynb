{
 "cells": [
  {
   "cell_type": "code",
   "execution_count": 1,
   "metadata": {},
   "outputs": [
    {
     "name": "stdout",
     "output_type": "stream",
     "text": [
      "Third odd number = 5\n"
     ]
    }
   ],
   "source": [
    "# Title: Module 3 Book Exercise 9.2\n",
    "# Author: Carey Armstrong\n",
    "# Date: 2024-11-07\n",
    "# Version: 1.0\n",
    "\n",
    "def get_odds():\n",
    "    listy = []\n",
    "    for x in range(1,10):\n",
    "       if x%2 == 1:\n",
    "           obligate = x\n",
    "           listy.append(obligate)\n",
    "    print(\"Third odd number =\", listy[2])\n",
    "\n",
    "output1 = get_odds()\n"
   ]
  }
 ],
 "metadata": {
  "kernelspec": {
   "display_name": "Python 3",
   "language": "python",
   "name": "python3"
  },
  "language_info": {
   "codemirror_mode": {
    "name": "ipython",
    "version": 3
   },
   "file_extension": ".py",
   "mimetype": "text/x-python",
   "name": "python",
   "nbconvert_exporter": "python",
   "pygments_lexer": "ipython3",
   "version": "3.10.0"
  }
 },
 "nbformat": 4,
 "nbformat_minor": 2
}
