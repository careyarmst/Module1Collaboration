{
 "cells": [
  {
   "cell_type": "code",
   "execution_count": 1,
   "metadata": {},
   "outputs": [
    {
     "name": "stdout",
     "output_type": "stream",
     "text": [
      "The # of seconds in an hour is:  3600\n"
     ]
    }
   ],
   "source": [
    "secmin = 60\n",
    "minhour = 60\n",
    "print(\"The # of seconds in an hour is: \", secmin*minhour)"
   ]
  },
  {
   "cell_type": "code",
   "execution_count": 2,
   "metadata": {},
   "outputs": [
    {
     "name": "stdout",
     "output_type": "stream",
     "text": [
      "save variable 3600\n"
     ]
    }
   ],
   "source": [
    "seconds_per_hour = secmin*minhour\n",
    "print(\"save variable\", seconds_per_hour)"
   ]
  },
  {
   "cell_type": "code",
   "execution_count": 3,
   "metadata": {},
   "outputs": [
    {
     "name": "stdout",
     "output_type": "stream",
     "text": [
      "The # of seconds in a day is:  86400\n"
     ]
    }
   ],
   "source": [
    "\n",
    "hours_day = 24\n",
    "seconds_per_day = seconds_per_hour * hours_day\n",
    "print(\"The # of seconds in a day is: \", seconds_per_day)"
   ]
  },
  {
   "cell_type": "code",
   "execution_count": 4,
   "metadata": {},
   "outputs": [
    {
     "name": "stdout",
     "output_type": "stream",
     "text": [
      "Float division result is:  24.0\n"
     ]
    }
   ],
   "source": [
    "div_float = seconds_per_day/seconds_per_hour\n",
    "print(\"Float division result is: \", div_float)"
   ]
  },
  {
   "cell_type": "code",
   "execution_count": 5,
   "metadata": {},
   "outputs": [
    {
     "name": "stdout",
     "output_type": "stream",
     "text": [
      "Integer division result is:  24\n"
     ]
    }
   ],
   "source": [
    "div_int_div = seconds_per_day//seconds_per_hour\n",
    "print(\"Integer division result is: \", div_int_div)"
   ]
  }
 ],
 "metadata": {
  "kernelspec": {
   "display_name": "Python 3",
   "language": "python",
   "name": "python3"
  },
  "language_info": {
   "codemirror_mode": {
    "name": "ipython",
    "version": 3
   },
   "file_extension": ".py",
   "mimetype": "text/x-python",
   "name": "python",
   "nbconvert_exporter": "python",
   "pygments_lexer": "ipython3",
   "version": "3.10.0"
  }
 },
 "nbformat": 4,
 "nbformat_minor": 2
}
