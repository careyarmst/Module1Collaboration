{
 "cells": [
  {
   "cell_type": "code",
   "execution_count": 1,
   "metadata": {},
   "outputs": [
    {
     "name": "stdout",
     "output_type": "stream",
     "text": [
      "The requested value was found at position 0\n"
     ]
    }
   ],
   "source": [
    "# Title: M03 GFG Assignment #2 Search\n",
    "# Author: Carey Armstrong\n",
    "# Date: 2024-11-07\n",
    "# Version: 3.0\n",
    "\n",
    "# Instantiate class (provided)\n",
    "class Solution:\n",
    "    def binarysearch(self, arr, k):\n",
    "        smallest = 0\n",
    "        largest = len(arr) - 1\n",
    "\n",
    "        while smallest <= largest:\n",
    "            middleval = (smallest + largest) // 2\n",
    "\n",
    "            if arr[middleval] == k:\n",
    "                return middleval\n",
    "            elif arr[middleval] < k:\n",
    "                smallest = middleval + 1\n",
    "            else:\n",
    "                largest = middleval - 1\n",
    "\n",
    "        return \"no position, value not found\"\n",
    "\n",
    "solution = Solution()\n",
    "arr = [1,2,3,4,5]\n",
    "getindexval = (solution.binarysearch(arr,1))\n",
    "print(\"The requested value was found at position\", getindexval)\n"
   ]
  }
 ],
 "metadata": {
  "kernelspec": {
   "display_name": "Python 3",
   "language": "python",
   "name": "python3"
  },
  "language_info": {
   "codemirror_mode": {
    "name": "ipython",
    "version": 3
   },
   "file_extension": ".py",
   "mimetype": "text/x-python",
   "name": "python",
   "nbconvert_exporter": "python",
   "pygments_lexer": "ipython3",
   "version": "3.10.0"
  }
 },
 "nbformat": 4,
 "nbformat_minor": 2
}
