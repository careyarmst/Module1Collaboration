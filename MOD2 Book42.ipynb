{
 "cells": [
  {
   "cell_type": "code",
   "execution_count": 1,
   "metadata": {},
   "outputs": [
    {
     "name": "stdout",
     "output_type": "stream",
     "text": [
      "These veggies do not meet the parameters green & small:  cherry\n",
      "This veggie meets the parameters green & small:  pea\n",
      "These veggies do not meet the parameters green & small:  watermelon\n",
      "These veggies do not meet the parameters green & small:  pumpkin\n"
     ]
    }
   ],
   "source": [
    "# M02 IF THEN ELSE statements Book 4.2\n",
    "# Author: Carey Armstrong\n",
    "# Date: 2024-11-02\n",
    "# Revision: 1.0\n",
    "\n",
    "# Set up dictionary with values\n",
    "veggiedict = {\"cherry\": [\"red\", \"small\"], \"pea\": [\"green\", \"small\"], \"watermelon\": [\"green\", \"large\"],\n",
    "              \"pumpkin\": [\"orange\", \"large\"]}\n",
    "\n",
    "# For loop with embedded if / else statements\n",
    "for key, value in veggiedict.items():\n",
    "    if value == [\"green\", \"small\"]:\n",
    "        green_small = True\n",
    "        if green_small == True:\n",
    "            print(\"This veggie meets the parameters green & small: \", key)\n",
    "    else:\n",
    "        not_green_small = False\n",
    "        if not_green_small == False:\n",
    "            print(\"These veggies do not meet the parameters green & small: \", key)\n",
    "\n"
   ]
  }
 ],
 "metadata": {
  "kernelspec": {
   "display_name": "Python 3",
   "language": "python",
   "name": "python3"
  },
  "language_info": {
   "codemirror_mode": {
    "name": "ipython",
    "version": 3
   },
   "file_extension": ".py",
   "mimetype": "text/x-python",
   "name": "python",
   "nbconvert_exporter": "python",
   "pygments_lexer": "ipython3",
   "version": "3.10.0"
  }
 },
 "nbformat": 4,
 "nbformat_minor": 2
}
