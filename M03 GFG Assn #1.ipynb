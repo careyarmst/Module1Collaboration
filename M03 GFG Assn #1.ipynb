{
 "cells": [
  {
   "cell_type": "code",
   "execution_count": 1,
   "metadata": {},
   "outputs": [
    {
     "name": "stdout",
     "output_type": "stream",
     "text": [
      "[0, 0, 1, 1, 2, 2]\n"
     ]
    }
   ],
   "source": [
    "# Title: M03 GFG Assignment #1 Sort\n",
    "# Author: Carey Armstrong\n",
    "# Date: 2024-11-07\n",
    "# Version: 3.0\n",
    "\n",
    "\n",
    "# Instantiate class and function for sort (provided)\n",
    "class Solution:\n",
    "    def sort012(self, arr):\n",
    "        # sort code - length is used for the while\n",
    "        listylen = len(arr)\n",
    "        small = 0\n",
    "        large = listylen - 1\n",
    "        medium = 0\n",
    "\n",
    "        while medium <= large:\n",
    "            if arr[medium] == 0:\n",
    "                arr[small], arr[medium] = arr[medium], arr[small]\n",
    "                small = small + 1\n",
    "                medium = medium + 1\n",
    "            elif arr[medium] == 1:\n",
    "                medium = medium + 1\n",
    "            else:\n",
    "                arr[medium], arr[large] = arr[large], arr[medium]\n",
    "                large = large - 1\n",
    "\n",
    "        arr.sort()\n",
    "\n",
    "# Create instance of class and provide input\n",
    "solution = Solution()\n",
    "arr = [0, 1, 2, 0, 1, 2]\n",
    "solution.sort012(arr)\n",
    "print(arr)"
   ]
  }
 ],
 "metadata": {
  "kernelspec": {
   "display_name": "Python 3",
   "language": "python",
   "name": "python3"
  },
  "language_info": {
   "codemirror_mode": {
    "name": "ipython",
    "version": 3
   },
   "file_extension": ".py",
   "mimetype": "text/x-python",
   "name": "python",
   "nbconvert_exporter": "python",
   "pygments_lexer": "ipython3",
   "version": "3.10.0"
  }
 },
 "nbformat": 4,
 "nbformat_minor": 2
}
