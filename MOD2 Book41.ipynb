{
 "cells": [
  {
   "cell_type": "code",
   "execution_count": 1,
   "metadata": {},
   "outputs": [
    {
     "name": "stdout",
     "output_type": "stream",
     "text": [
      "too high\n"
     ]
    }
   ],
   "source": [
    "# M02 IF THEN ELSE statements Book 4.1\n",
    "# Author: Carey Armstrong\n",
    "# Date: 2024-11-02\n",
    "# Revision: 1.0\n",
    "\n",
    "# Set the variables\n",
    "\n",
    "secret = 3\n",
    "guess = 8\n",
    "# If, elif, else statements\n",
    "if secret > guess:\n",
    "    print(\"too low\")\n",
    "elif secret < guess:\n",
    "    print(\"too high\")\n",
    "else:\n",
    "    print(\"just right\")\n",
    "\n"
   ]
  }
 ],
 "metadata": {
  "kernelspec": {
   "display_name": "Python 3",
   "language": "python",
   "name": "python3"
  },
  "language_info": {
   "codemirror_mode": {
    "name": "ipython",
    "version": 3
   },
   "file_extension": ".py",
   "mimetype": "text/x-python",
   "name": "python",
   "nbconvert_exporter": "python",
   "pygments_lexer": "ipython3",
   "version": "3.10.0"
  }
 },
 "nbformat": 4,
 "nbformat_minor": 2
}
